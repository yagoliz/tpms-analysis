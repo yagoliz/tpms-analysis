{
 "cells": [
  {
   "cell_type": "code",
   "execution_count": null,
   "metadata": {},
   "outputs": [],
   "source": [
    "import pickle\n",
    "import time\n",
    "\n",
    "import matplotlib.pyplot as plt\n",
    "import pandas as pd\n",
    "import seaborn as sns"
   ]
  },
  {
   "cell_type": "code",
   "execution_count": null,
   "metadata": {},
   "outputs": [],
   "source": [
    "plt.rcParams[\"font.family\"] = \"Linux Libertine O\"\n",
    "plt.rcParams[\"font.size\"] = 20"
   ]
  },
  {
   "cell_type": "code",
   "execution_count": null,
   "metadata": {},
   "outputs": [],
   "source": [
    "with open('./results/detected_cars_n1.pickle', 'rb') as handle:\n",
    "    n1 = pickle.load(handle)\n",
    "\n",
    "with open('./results/detected_cars_n5.pickle', 'rb') as handle:\n",
    "    n5 = pickle.load(handle)"
   ]
  },
  {
   "cell_type": "code",
   "execution_count": null,
   "metadata": {},
   "outputs": [],
   "source": [
    "keys = [key for key in n1.keys()]\n",
    "\n",
    "agg = 0\n",
    "print(f\"Cars: {len(n1[keys[agg]])} - {n1[keys[agg]]}\")\n",
    "print(f\"Cars: {len(n5[keys[agg]])} - {n1[keys[agg]]}\")"
   ]
  },
  {
   "cell_type": "code",
   "execution_count": null,
   "metadata": {},
   "outputs": [],
   "source": [
    "grouping_analysis = {'5S': '5 sec.','10S':'10 sec.','30S':'30 sec.','1T':'1 min.','2T':'2 min.','5T': '5 min.'}"
   ]
  },
  {
   "cell_type": "code",
   "execution_count": null,
   "metadata": {},
   "outputs": [],
   "source": [
    "res = []\n",
    "for key in n1.keys():\n",
    "    res.append([len(n1[key]), 1, grouping_analysis[key]])\n",
    "    res.append([len(n5[key]), 5, grouping_analysis[key]])\n",
    "\n",
    "data = pd.DataFrame(res, columns=['Count', 'Num. Sensors', 'Aggregation'])"
   ]
  },
  {
   "cell_type": "code",
   "execution_count": null,
   "metadata": {},
   "outputs": [],
   "source": [
    "f, ax = plt.subplots(figsize=(9, 4))\n",
    "\n",
    "sns.barplot(x=\"Aggregation\", y=\"Count\", hue=\"Num. Sensors\", data=data, alpha=0.8, ax=ax, )\n",
    "ax.set(xlabel=\"Aggregation\", ylabel = \"Car Count\")\n",
    "ax.set_ylim((-.5,15))\n",
    "ax.tick_params(axis='x', rotation=0)\n",
    "ax.legend(title=\"Num. Receivers\", loc='upper left', ncol=2, fontsize=15)\n",
    "\n",
    "plt.savefig(\"../pics/correlation/sensorscarcount.pdf\",format=\"pdf\", bbox_inches='tight')\n",
    "plt.show()"
   ]
  }
 ],
 "metadata": {
  "kernelspec": {
   "display_name": ".venv",
   "language": "python",
   "name": "python3"
  },
  "language_info": {
   "codemirror_mode": {
    "name": "ipython",
    "version": 3
   },
   "file_extension": ".py",
   "mimetype": "text/x-python",
   "name": "python",
   "nbconvert_exporter": "python",
   "pygments_lexer": "ipython3",
   "version": "3.11.11"
  }
 },
 "nbformat": 4,
 "nbformat_minor": 2
}
