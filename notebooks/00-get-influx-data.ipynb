{
 "cells": [
  {
   "cell_type": "code",
   "execution_count": null,
   "metadata": {},
   "outputs": [],
   "source": [
    "import os\n",
    "\n",
    "from influxdb_client import InfluxDBClient\n",
    "import pandas as pd"
   ]
  },
  {
   "cell_type": "code",
   "execution_count": null,
   "metadata": {},
   "outputs": [],
   "source": [
    "with open('../.env_vars.sh') as file:\n",
    "    for line in file:\n",
    "        key, value = line.strip().split('=', 1)\n",
    "        os.environ[key] = value"
   ]
  },
  {
   "cell_type": "code",
   "execution_count": null,
   "metadata": {},
   "outputs": [],
   "source": [
    "IP = \"<IP_ADDRESS>\"\n",
    "client = InfluxDBClient(url=f\"http://{IP}:8086\", token=os.environ['TOKEN'], org=\"imdea\")"
   ]
  },
  {
   "cell_type": "code",
   "execution_count": null,
   "metadata": {},
   "outputs": [],
   "source": [
    "query = client.query_api()"
   ]
  },
  {
   "cell_type": "code",
   "execution_count": null,
   "metadata": {},
   "outputs": [],
   "source": [
    "bucket = \"tpms-office\"\n",
    "host = \"tpms-office\"\n",
    "\n",
    "start = \"2023-10-01T00:00:00Z\"\n",
    "stop = \"2023-12-31T23:59:59Z\"\n",
    "\n",
    "query_str = f'\\\n",
    "from(bucket: \"{bucket}\")\\\n",
    "  |> range(start: {start}, stop: {stop})\\\n",
    "  |> filter(fn: (r) => r[\"_measurement\"] == \"mqtt_consumer\")\\\n",
    "  |> filter(fn: (r) => r[\"host\"] == \"{host}\")\\\n",
    "  |> filter(fn: (r) => r[\"_field\"] == \"temperature_C\" or r[\"_field\"] == \"temperature_F\" or r[\"_field\"] == \"rssi\" or r[\"_field\"] == \"snr\" or r[\"_field\"] == \"pressure_PSI\" or r[\"_field\"] == \"pressure_kPa\" or r[\"_field\"] == \"freq\" or r[\"_field\"] == \"freq1\" or r[\"_field\"] == \"freq2\" or r[\"_field\"] == \"moving\" or r[\"_field\"] == \"maybe_battery\" or r[\"_field\"] == \"centrifugal_acc\" or r[\"_field\"] == \"wheel\" or r[\"_field\"] == \"protocol\")\\\n",
    "'"
   ]
  },
  {
   "cell_type": "code",
   "execution_count": null,
   "metadata": {},
   "outputs": [],
   "source": [
    "# InfluxDB query preparation\n",
    "rows = query.query_csv(org='imdea', query=query_str)\n",
    "\n",
    "# Initial cleaning\n",
    "df = pd.DataFrame.from_records(rows.to_values())\n",
    "df = df.drop([0,1,2]).reset_index().drop(['index'],axis=1)\n",
    "df.columns = df.iloc[0]\n",
    "df = df.drop([0])\n",
    "\n",
    "aux = df.copy()"
   ]
  },
  {
   "cell_type": "code",
   "execution_count": null,
   "metadata": {},
   "outputs": [],
   "source": [
    "# Just in case\n",
    "df = aux.copy()"
   ]
  },
  {
   "cell_type": "code",
   "execution_count": null,
   "metadata": {},
   "outputs": [],
   "source": [
    "##\n",
    "print(\"STEP 1 - Converting Time...\", end=\"\")\n",
    "# Convert '_time' to datetime and '_value' to numeric\n",
    "df['_time'] = pd.to_datetime(df['_time'])\n",
    "df = df.rename(columns={\"_time\": \"time\"})\n",
    "print(\"Finished\")\n",
    "\n",
    "##\n",
    "print(\"STEP 2 - Grouping values...\", end=\"\")\n",
    "# Group the data by '_time' and 'topic' and create a list of dictionaries for each group\n",
    "grouped = df.groupby(['time', 'topic'])\n",
    "grouped_data = grouped.apply(lambda x: dict(zip(x['_field'], x['_value']))).reset_index()\n",
    "\n",
    "# Rename the column containing dictionaries\n",
    "grouped_data.rename(columns={0: 'measurements'}, inplace=True)\n",
    "print(\"Finished\")\n",
    "\n",
    "##\n",
    "# Convert the dictionaries to a DataFrame\n",
    "print(\"STEP 3 - Converting measurements to dataframe...\", end=\"\")\n",
    "measurements_df = pd.json_normalize(grouped_data['measurements'])\n",
    "print(\"Finished\")\n",
    "\n",
    "##\n",
    "print(\"STEP 4 - Grouping and getting car and id...\", end=\"\")\n",
    "# Combine the '_time' and 'topic' columns with the measurements DataFrame\n",
    "time_df = pd.concat([grouped_data[['time', 'topic']], measurements_df], axis=1)\n",
    "\n",
    "# Split the 'topic' into 'car' and 'id'\n",
    "split_topics = time_df['topic'].str.split('/', expand=True)\n",
    "time_df['car'] = split_topics[1]\n",
    "time_df['id'] = split_topics[2].str.upper()\n",
    "\n",
    "# Drop the original 'topic' column\n",
    "time_df = time_df.drop('topic', axis=1)\n",
    "print(\"Finished!\")\n",
    "\n",
    "##\n",
    "print(\"STEP 5 - Saving to csv...\",end=\"\")\n",
    "time_df.to_csv(f'../data/{bucket}.csv')\n",
    "print(f\"Data saved to: ../data/{bucket}.csv\")"
   ]
  }
 ],
 "metadata": {
  "kernelspec": {
   "display_name": ".venv",
   "language": "python",
   "name": "python3"
  },
  "language_info": {
   "codemirror_mode": {
    "name": "ipython",
    "version": 3
   },
   "file_extension": ".py",
   "mimetype": "text/x-python",
   "name": "python",
   "nbconvert_exporter": "python",
   "pygments_lexer": "ipython3",
   "version": "3.11.7"
  }
 },
 "nbformat": 4,
 "nbformat_minor": 2
}
