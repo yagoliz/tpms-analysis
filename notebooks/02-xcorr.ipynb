{
 "cells": [
  {
   "cell_type": "code",
   "execution_count": 1,
   "metadata": {},
   "outputs": [],
   "source": [
    "import time\n",
    "\n",
    "import matplotlib.pyplot as plt\n",
    "import numpy as np\n",
    "import pandas as pd\n",
    "import scipy"
   ]
  },
  {
   "cell_type": "code",
   "execution_count": 2,
   "metadata": {},
   "outputs": [],
   "source": [
    "plt.rcParams[\"font.family\"] = \"Linux Libertine O\"\n",
    "plt.rcParams[\"font.size\"] = 20"
   ]
  },
  {
   "cell_type": "markdown",
   "metadata": {},
   "source": [
    "## Full Dataset"
   ]
  },
  {
   "cell_type": "code",
   "execution_count": 3,
   "metadata": {},
   "outputs": [],
   "source": [
    "protocols = np.array([59, 60, 82, 88, 89, 90, 95, 110, 123, 140, 156, 168, 180, 186, 201, 203, 208, 212, 225, 226, 241, 248])"
   ]
  },
  {
   "cell_type": "code",
   "execution_count": null,
   "metadata": {},
   "outputs": [],
   "source": [
    "# We need to read data and transform the time column into datetime object\n",
    "files = [\"<sensor_id>\"]\n",
    "\n",
    "data = pd.DataFrame()\n",
    "for f in files:\n",
    "    df = pd.read_csv(f\"../data/tpms-{f}.csv\")\n",
    "    df[\"time\"] = pd.to_datetime(df[\"time\"])\n",
    "    df.set_index([\"time\"], inplace=True)\n",
    "    df = df[df[\"protocol\"].isin(protocols)]\n",
    "    if data.empty:\n",
    "        data = df\n",
    "    else:\n",
    "        data = pd.concat((data,df))"
   ]
  },
  {
   "cell_type": "code",
   "execution_count": 14,
   "metadata": {},
   "outputs": [],
   "source": [
    "cars = pd.read_csv('../data/cars.csv')\n",
    "cars_np = cars[['id1','id2','id3','id4','id5','id6','id7','id8']].to_numpy(dtype=str).flatten()\n",
    "cars_np = cars_np[~(cars_np == 'nan')]"
   ]
  },
  {
   "cell_type": "code",
   "execution_count": null,
   "metadata": {},
   "outputs": [],
   "source": [
    "duplicates = {}\n",
    "\n",
    "for duplicate in duplicates.keys():\n",
    "    mask = data['id'] == duplicate\n",
    "    data.loc[mask,'id'] = duplicates[duplicate]\n",
    "    data.loc[mask,'car'] = 'Renault'"
   ]
  },
  {
   "cell_type": "code",
   "execution_count": 16,
   "metadata": {},
   "outputs": [
    {
     "data": {
      "text/plain": [
       "(21850, 16)"
      ]
     },
     "execution_count": 16,
     "metadata": {},
     "output_type": "execute_result"
    }
   ],
   "source": [
    "# # Threshold for minimum number of occurrences\n",
    "# threshold = 1  # Adjust this number as needed\n",
    "\n",
    "# # Group by 'id' and count occurrences\n",
    "# id_counts = data.groupby(\"id\").size().sort_values(ascending=False)\n",
    "\n",
    "# # Filter IDs by the threshold\n",
    "# filtered_ids = id_counts[id_counts >= threshold].index\n",
    "\n",
    "# Filter the original DataFrame to keep only rows with these IDs\n",
    "filtered = data[data[\"id\"].isin(cars_np)].drop([\"Unnamed: 0\"], axis=1)\n",
    "filtered.shape"
   ]
  },
  {
   "cell_type": "code",
   "execution_count": 17,
   "metadata": {},
   "outputs": [],
   "source": [
    "grouping_analysis = [['10S','10 sec.'],['30S','30 sec.'],['1T','1 min.'],['2T','2 min.'],['5T','5 min.'], ['10T','10 min.'], ['1H','1 h.'], ['2H','2 h.'], ['5H','5 h.']]"
   ]
  },
  {
   "cell_type": "code",
   "execution_count": 18,
   "metadata": {},
   "outputs": [],
   "source": [
    "selector = 2\n",
    "grouping_time = grouping_analysis[selector][0]\n",
    "\n",
    "# Group by time bins and 'id', and count occurrences\n",
    "grouped = filtered.groupby([pd.Grouper(freq=grouping_time), 'id']).size().reset_index(name='count')\n",
    "\n",
    "# Create pivot table\n",
    "pivot_table = grouped.pivot_table(index='time', columns='id', values='count', fill_value=0)"
   ]
  },
  {
   "cell_type": "code",
   "execution_count": 19,
   "metadata": {},
   "outputs": [],
   "source": [
    "corr_mat = np.zeros((pivot_table.shape[1],pivot_table.shape[1]))"
   ]
  },
  {
   "cell_type": "code",
   "execution_count": 20,
   "metadata": {},
   "outputs": [],
   "source": [
    "pivot_sum = pivot_table\n",
    "for i in range(len(cars_np)):\n",
    "    c1 = pivot_sum.loc[:,cars_np[i]].to_numpy()\n",
    "    m1 = np.max(scipy.signal.correlate(c1,c1))\n",
    "    for j in range(i,len(cars_np)):\n",
    "        try:\n",
    "            c2 = pivot_sum.loc[:,cars_np[j]].to_numpy()\n",
    "            m2 = np.max(scipy.signal.correlate(c2,c2))\n",
    "            la = scipy.signal.correlation_lags(len(c1),len(c2))\n",
    "            xc = scipy.signal.correlate(c1,c2)\n",
    "\n",
    "            l0 = np.where(la == 0)[0]\n",
    "            corr_mat[i,j] = np.abs(xc[l0][0]) / np.max([m1,m2])\n",
    "        except:\n",
    "            corr_mat[i,j] = 0.0\n",
    "\n",
    "i_lower = np.tril_indices(corr_mat.shape[0], -1)\n",
    "corr_mat[i_lower] = corr_mat.T[i_lower]\n",
    "\n",
    "corr_mat_db = 10*np.log10(corr_mat+1e-6)\n",
    "corr_mat_db[corr_mat_db < -30] = -30\n",
    "ending = time.time()"
   ]
  },
  {
   "cell_type": "code",
   "execution_count": 21,
   "metadata": {},
   "outputs": [
    {
     "data": {
      "image/png": "[encoded data removed]",
      "text/plain": [
       "<Figure size 1500x1000 with 2 Axes>"
      ]
     },
     "metadata": {},
     "output_type": "display_data"
    }
   ],
   "source": [
    "f, ax = plt.subplots(figsize=(15, 10))\n",
    "\n",
    "im = ax.imshow(corr_mat_db, cmap='inferno')\n",
    "ax.set_xticks([])\n",
    "ax.set_yticks([])\n",
    "# ax.set_title(f'Aggregation: {grouping_analysis[selector][1]}')\n",
    "\n",
    "cbar = f.colorbar(im, ax=ax)\n",
    "cbar.set_label('Log Probability')\n",
    "\n",
    "plt.savefig(f'../pics/xcorr_{grouping_analysis[selector][0]}_n{len(files)}.pdf', format='pdf', bbox_inches='tight')\n",
    "plt.show()"
   ]
  },
  {
   "cell_type": "markdown",
   "metadata": {},
   "source": [
    "## Timing Measurements"
   ]
  },
  {
   "cell_type": "code",
   "execution_count": 8,
   "metadata": {},
   "outputs": [],
   "source": [
    "grouping_analysis = [['5S','5 sec.'],['10S','10 sec.'],['30S','30 sec.'],['1T','1 min.'],['2T','2 min.'],['5T','5 min.'], ['10T','10 min.'], ['1H','1 h.'], ['2H','2 h.'], ['5H','5 h.']]"
   ]
  },
  {
   "cell_type": "code",
   "execution_count": 9,
   "metadata": {},
   "outputs": [],
   "source": [
    "selector = 0\n",
    "grouping_time = grouping_analysis[selector][0]\n",
    "\n",
    "# Group by time bins and 'id', and count occurrences\n",
    "grouped = filtered.groupby([pd.Grouper(freq=grouping_time), 'id']).size().reset_index(name='count')\n",
    "\n",
    "# Create pivot table\n",
    "pivot_table = grouped.pivot_table(index='time', columns='id', values='count', fill_value=0)\n",
    "corr_mat = np.zeros((pivot_table.shape[1],pivot_table.shape[1]))"
   ]
  },
  {
   "cell_type": "code",
   "execution_count": 10,
   "metadata": {},
   "outputs": [],
   "source": [
    "t = []\n",
    "\n",
    "for i in range(100):\n",
    "    start = time.time()\n",
    "    pivot_sum = pivot_table\n",
    "    for i in range(len(cars_np)):\n",
    "        c1 = pivot_sum.loc[:,cars_np[i]].to_numpy()\n",
    "        m1 = np.max(scipy.signal.correlate(c1,c1))\n",
    "        for j in range(i,len(cars_np)):\n",
    "            try:\n",
    "                c2 = pivot_sum.loc[:,cars_np[j]].to_numpy()\n",
    "                m2 = np.max(scipy.signal.correlate(c2,c2))\n",
    "                la = scipy.signal.correlation_lags(len(c1),len(c2))\n",
    "                xc = scipy.signal.correlate(c1,c2)\n",
    "\n",
    "                l0 = np.where(la == 0)[0]\n",
    "                corr_mat[i,j] = np.abs(xc[l0][0]) / np.max([m1,m2])\n",
    "            except:\n",
    "                corr_mat[i,j] = 0.0\n",
    "\n",
    "    i_lower = np.tril_indices(corr_mat.shape[0], -1)\n",
    "    corr_mat[i_lower] = corr_mat.T[i_lower]\n",
    "\n",
    "    corr_mat_db = 10*np.log10(corr_mat+1e-6)\n",
    "    corr_mat_db[corr_mat_db < -30] = -30\n",
    "    ending = time.time()\n",
    "    t.append(ending-start)"
   ]
  },
  {
   "cell_type": "code",
   "execution_count": 11,
   "metadata": {},
   "outputs": [
    {
     "data": {
      "text/plain": [
       "2.0970257568359374"
      ]
     },
     "execution_count": 11,
     "metadata": {},
     "output_type": "execute_result"
    }
   ],
   "source": [
    "np.mean(np.array(t))"
   ]
  }
 ],
 "metadata": {
  "kernelspec": {
   "display_name": ".venv",
   "language": "python",
   "name": "python3"
  },
  "language_info": {
   "codemirror_mode": {
    "name": "ipython",
    "version": 3
   },
   "file_extension": ".py",
   "mimetype": "text/x-python",
   "name": "python",
   "nbconvert_exporter": "python",
   "pygments_lexer": "ipython3",
   "version": "3.11.11"
  }
 },
 "nbformat": 4,
 "nbformat_minor": 2
}
