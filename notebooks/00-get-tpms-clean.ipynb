{
 "cells": [
  {
   "cell_type": "code",
   "execution_count": null,
   "metadata": {},
   "outputs": [],
   "source": [
    "import time\n",
    "from typing import Tuple\n",
    "\n",
    "import matplotlib.pyplot as plt\n",
    "import numpy as np\n",
    "import pandas as pd"
   ]
  },
  {
   "cell_type": "code",
   "execution_count": null,
   "metadata": {},
   "outputs": [],
   "source": [
    "protocols = np.array([59,60,82,88,89,90,95,110,123,140,156,168,180,186,201,203,208,212,225,226,241,248])"
   ]
  },
  {
   "cell_type": "code",
   "execution_count": null,
   "metadata": {},
   "outputs": [],
   "source": [
    "# We need to read data and transform the time column into datetime object\n",
    "files = [\"<sensor_id>\"]\n",
    "\n",
    "data = pd.DataFrame()\n",
    "for f in files:\n",
    "    df = pd.read_csv(f\"../data/tpms-{f}.csv\")\n",
    "    df[\"time\"] = pd.to_datetime(df[\"time\"])\n",
    "    df.set_index([\"time\"], inplace=True)\n",
    "    df = df[df[\"protocol\"].isin(protocols)]\n",
    "    if data.empty:\n",
    "        data = df\n",
    "    else:\n",
    "        data = pd.concat((data,df))\n"
   ]
  },
  {
   "cell_type": "code",
   "execution_count": null,
   "metadata": {},
   "outputs": [],
   "source": [
    "(data.index[-1] - data.index[0])"
   ]
  },
  {
   "cell_type": "code",
   "execution_count": null,
   "metadata": {},
   "outputs": [],
   "source": [
    "cars = pd.read_csv('../data/cars.csv')\n",
    "cars_np = cars[['id1','id2','id3','id4','id5','id6','id7','id8']].to_numpy(dtype=str).flatten()\n",
    "cars_np = cars_np[~(cars_np == 'nan')]"
   ]
  },
  {
   "cell_type": "code",
   "execution_count": null,
   "metadata": {},
   "outputs": [],
   "source": [
    "# Filter the original DataFrame to keep only rows with these IDs\n",
    "filtered = data[data[\"id\"].isin(cars_np)].drop([\"Unnamed: 0\"], axis=1)\n",
    "filtered.shape"
   ]
  },
  {
   "cell_type": "code",
   "execution_count": null,
   "metadata": {},
   "outputs": [],
   "source": [
    "duplicates = {}\n",
    "\n",
    "for duplicate in duplicates.keys():\n",
    "    mask = data['id'] == duplicate\n",
    "    data.loc[mask,'id'] = duplicates[duplicate]\n",
    "    data.loc[mask,'car'] = 'Renault'"
   ]
  },
  {
   "cell_type": "code",
   "execution_count": null,
   "metadata": {},
   "outputs": [],
   "source": [
    "if len(files) == 1:\n",
    "    filtered.to_csv(f'../share/tpms-{files[0]}.csv')\n",
    "else:\n",
    "    filtered.to_csv(f'../share/tpms-merged-{len(files)}.csv')"
   ]
  }
 ],
 "metadata": {
  "kernelspec": {
   "display_name": ".venv",
   "language": "python",
   "name": "python3"
  },
  "language_info": {
   "codemirror_mode": {
    "name": "ipython",
    "version": 3
   },
   "file_extension": ".py",
   "mimetype": "text/x-python",
   "name": "python",
   "nbconvert_exporter": "python",
   "pygments_lexer": "ipython3",
   "version": "3.11.12"
  }
 },
 "nbformat": 4,
 "nbformat_minor": 2
}
