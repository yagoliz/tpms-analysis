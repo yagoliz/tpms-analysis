{
 "cells": [
  {
   "cell_type": "code",
   "execution_count": 1,
   "metadata": {},
   "outputs": [],
   "source": [
    "import pickle\n",
    "import time\n",
    "\n",
    "import matplotlib.pyplot as plt\n",
    "import numpy as np\n",
    "import pandas as pd\n",
    "import scipy"
   ]
  },
  {
   "cell_type": "code",
   "execution_count": 2,
   "metadata": {},
   "outputs": [],
   "source": [
    "plt.rcParams[\"font.family\"] = \"Linux Libertine O\"\n",
    "plt.rcParams[\"font.size\"] = 20"
   ]
  },
  {
   "cell_type": "markdown",
   "metadata": {},
   "source": [
    "## Full Dataset"
   ]
  },
  {
   "cell_type": "code",
   "execution_count": 3,
   "metadata": {},
   "outputs": [],
   "source": [
    "protocols = np.array([59, 60, 82, 88, 89, 90, 95, 110, 123, 140, 156, 168, 180, 186, 201, 203, 208, 212, 225, 226, 241, 248])"
   ]
  },
  {
   "cell_type": "code",
   "execution_count": null,
   "metadata": {},
   "outputs": [],
   "source": [
    "# We need to read data and transform the time column into datetime object\n",
    "files = ['<sensor_id>']\n",
    "\n",
    "data = pd.DataFrame()\n",
    "for f in files:\n",
    "    df = pd.read_csv(f\"../data/tpms-{f}.csv\")\n",
    "    df[\"time\"] = pd.to_datetime(df[\"time\"])\n",
    "    df.set_index([\"time\"], inplace=True)\n",
    "    df = df[df[\"protocol\"].isin(protocols)]\n",
    "    if data.empty:\n",
    "        data = df\n",
    "    else:\n",
    "        data = pd.concat((data,df))"
   ]
  },
  {
   "cell_type": "code",
   "execution_count": 9,
   "metadata": {},
   "outputs": [],
   "source": [
    "cars = pd.read_csv('../data/cars.csv')\n",
    "cars_np = cars[['id1','id2','id3','id4','id5','id6','id7','id8']].to_numpy(dtype=str).flatten()\n",
    "cars_np = cars_np[~(cars_np == 'nan')]\n",
    "cars_np = np.random.permutation(cars_np)"
   ]
  },
  {
   "cell_type": "code",
   "execution_count": null,
   "metadata": {},
   "outputs": [],
   "source": [
    "duplicates = {}\n",
    "\n",
    "for duplicate in duplicates.keys():\n",
    "    mask = data['id'] == duplicate\n",
    "    data.loc[mask,'id'] = duplicates[duplicate]\n",
    "    data.loc[mask,'car'] = 'Renault'"
   ]
  },
  {
   "cell_type": "code",
   "execution_count": 11,
   "metadata": {},
   "outputs": [
    {
     "data": {
      "text/plain": [
       "(75578, 16)"
      ]
     },
     "execution_count": 11,
     "metadata": {},
     "output_type": "execute_result"
    }
   ],
   "source": [
    "# # Threshold for minimum number of occurrences\n",
    "# threshold = 1  # Adjust this number as needed\n",
    "\n",
    "# # Group by 'id' and count occurrences\n",
    "# id_counts = data.groupby(\"id\").size().sort_values(ascending=False)\n",
    "\n",
    "# # Filter IDs by the threshold\n",
    "# filtered_ids = id_counts[id_counts >= threshold].index\n",
    "\n",
    "# Filter the original DataFrame to keep only rows with these IDs\n",
    "filtered = data[data[\"id\"].isin(cars_np)].drop([\"Unnamed: 0\"], axis=1)\n",
    "filtered.shape"
   ]
  },
  {
   "cell_type": "markdown",
   "metadata": {},
   "source": [
    "## Single car analysis"
   ]
  },
  {
   "cell_type": "code",
   "execution_count": 12,
   "metadata": {},
   "outputs": [],
   "source": [
    "grouping_analysis = [['5S','10 sec.'],['10S','10 sec.'],['30S','30 sec.'],['1T','1 min.'],['2T','2 min.'],['5T','5 min.']]"
   ]
  },
  {
   "cell_type": "code",
   "execution_count": 13,
   "metadata": {},
   "outputs": [],
   "source": [
    "index = 0\n",
    "grouping_time = grouping_analysis[index][0]\n",
    "\n",
    "# Group by time bins and 'id', and count occurrences\n",
    "grouped = filtered.groupby([pd.Grouper(freq=grouping_time), 'id']).size().reset_index(name='count')\n",
    "\n",
    "# Create pivot table\n",
    "pivot_table = grouped.pivot_table(index='time', columns='id', values='count', fill_value=0)\n",
    "pivot_table = pivot_table.loc[:,cars_np]\n",
    "\n",
    "# Calculating the correlation result\n",
    "corr_mat = np.zeros((pivot_table.shape[1],pivot_table.shape[1]))\n",
    "pivot_sum = pivot_table\n",
    "for i in range(len(cars_np)):\n",
    "    c1 = pivot_sum.loc[:,cars_np[i]].to_numpy()\n",
    "    m1 = np.max(scipy.signal.correlate(c1,c1))\n",
    "    for j in range(i,len(cars_np)):\n",
    "        try:\n",
    "            c2 = pivot_sum.loc[:,cars_np[j]].to_numpy()\n",
    "            m2 = np.max(scipy.signal.correlate(c2,c2))\n",
    "            la = scipy.signal.correlation_lags(len(c1),len(c2))\n",
    "            xc = scipy.signal.correlate(c1,c2)\n",
    "\n",
    "            l0 = np.where(la == 0)[0]\n",
    "            corr_mat[i,j] = np.abs(xc[l0][0]) / np.max([m1,m2])\n",
    "        except:\n",
    "            corr_mat[i,j] = 0.0\n",
    "\n",
    "# Let's create the full matrix\n",
    "i_lower = np.tril_indices(corr_mat.shape[0], -1)\n",
    "corr_mat[i_lower] = corr_mat.T[i_lower]\n",
    "pivot_aux = pivot_table.copy()\n",
    "corr_mat_db = 10*np.log10(corr_mat+1e-6)\n",
    "corr_mat_db[corr_mat_db < -30] = -30"
   ]
  },
  {
   "cell_type": "code",
   "execution_count": 14,
   "metadata": {},
   "outputs": [],
   "source": [
    "corr_threshold = -5.0\n",
    "# Let's get all cars\n",
    "cars_ids = np.array(['','','',''], dtype=str)\n",
    "cars_dic = {}\n",
    "\n",
    "car_num = 0\n",
    "while (corr_threshold > -30.0) and (corr_mat_db.shape[0] > 1):\n",
    "    i = 0\n",
    "    while i < corr_mat_db.shape[0]:\n",
    "        row = corr_mat_db[i,:]\n",
    "        best_ids = row[row > corr_threshold]\n",
    "        if len(best_ids) > 1:\n",
    "            actual_ids = np.argsort(row)[::-1][0:min([4,len(best_ids)])]\n",
    "            id_values = pivot_aux.columns[actual_ids]\n",
    "            intersection = np.in1d(cars_ids, id_values)\n",
    "\n",
    "            if (~intersection).any():\n",
    "                if len(id_values) < 4:\n",
    "                    filler = [''] * (4-len(id_values))\n",
    "                    id_values = np.append(id_values,filler)\n",
    "\n",
    "                if ~(id_values == '').any():\n",
    "                    pivot_aux = pivot_aux.drop(id_values,axis=1)\n",
    "                    corr_mat_db = np.delete(corr_mat_db, actual_ids, axis=0)\n",
    "                    corr_mat_db = np.delete(corr_mat_db, actual_ids, axis=1)\n",
    "                    cars_dic[car_num] = id_values\n",
    "                    car_num+=1\n",
    "                else:\n",
    "                    cars_ids = np.vstack((cars_ids,id_values))\n",
    "            else:\n",
    "                intersection_opposite = np.in1d(id_values, cars_ids)\n",
    "                if (~intersection_opposite).any():\n",
    "                    missing_ids = id_values[~intersection_opposite.any()]\n",
    "                    remaining = 4-len(id_values)\n",
    "\n",
    "                    data_row = np.argmax(intersection.reshape(-1,4).sum(axis=1))\n",
    "                    cars_ids[data_row,remaining:] = missing_ids[:remaining]\n",
    "\n",
    "                    if (~(cars_ids[data_row,:] == '')).any():\n",
    "                        found_car = cars_ids[data_row,:]\n",
    "                        pivot_aux = pivot_aux.drop(id_values,axis=1)\n",
    "                        corr_mat_db = np.delete(corr_mat_db, actual_ids, axis=0)\n",
    "                        corr_mat_db = np.delete(corr_mat_db, actual_ids, axis=1)\n",
    "\n",
    "                        cars_dic[car_num] = cars_ids[data_row,:]\n",
    "                        car_num += 1\n",
    "\n",
    "                        cars_ids = np.delete(cars_ids, data_row, axis=0)\n",
    "                        cars_ids[cars_ids.isin(found_car)] = ''\n",
    "        i += 1\n",
    "    \n",
    "    corr_threshold -= 2.5\n"
   ]
  },
  {
   "cell_type": "code",
   "execution_count": 16,
   "metadata": {},
   "outputs": [
    {
     "data": {
      "text/plain": [
       "{0: Index(['D51A0AD4', 'D3B91061', 'D3B9536D', 'D3B9434C'], dtype='object', name='id'),\n",
       " 1: Index(['BDC7D1', 'BE0562', 'BDF9DD', 'BDCD95'], dtype='object', name='id'),\n",
       " 2: Index(['B6324C', 'B698E8', 'B67366', 'B696A2'], dtype='object', name='id'),\n",
       " 3: Index(['F311F1AA', 'F311F336', 'F311EF53', 'F3120345'], dtype='object', name='id'),\n",
       " 4: Index(['FB1F76FD', 'FB1F6F0C', 'FB1F7574', 'FB1F6F35'], dtype='object', name='id'),\n",
       " 5: Index(['226797C', '22664C8', '22674FB', '2267C9F'], dtype='object', name='id'),\n",
       " 6: Index(['370C9C', '370C77', '370C81', '370CB8'], dtype='object', name='id'),\n",
       " 7: Index(['73E9B0', 'B62C58', 'B624EB', '4170AD'], dtype='object', name='id'),\n",
       " 8: Index(['45CAE007', '45CB5A75', '45C78786', '45CB8050'], dtype='object', name='id')}"
      ]
     },
     "execution_count": 16,
     "metadata": {},
     "output_type": "execute_result"
    }
   ],
   "source": [
    "cars_dic"
   ]
  },
  {
   "cell_type": "markdown",
   "metadata": {},
   "source": [
    "## Naive"
   ]
  },
  {
   "cell_type": "code",
   "execution_count": 17,
   "metadata": {},
   "outputs": [],
   "source": [
    "grouping_analysis = [['5S','5 sec.'],['10S','10 sec.'],['30S','30 sec.'],['1T','1 min.'],['2T','2 min.'],['5T','5 min.']]"
   ]
  },
  {
   "cell_type": "code",
   "execution_count": 65,
   "metadata": {},
   "outputs": [],
   "source": [
    "index = 2\n",
    "grouping_time = grouping_analysis[index][0]\n",
    "\n",
    "# Group by time bins and 'id', and count occurrences\n",
    "grouped = filtered.groupby([pd.Grouper(freq=grouping_time), 'id']).size().reset_index(name='count')\n",
    "\n",
    "# Create pivot table\n",
    "pivot_table = grouped.pivot_table(index='time', columns='id', values='count', fill_value=0)\n",
    "pivot_table = pivot_table.loc[:,cars_np]\n",
    "\n",
    "# Calculating the correlation result\n",
    "corr_mat = np.zeros((pivot_table.shape[1],pivot_table.shape[1]))\n",
    "pivot_sum = pivot_table\n",
    "for i in range(len(cars_np)):\n",
    "    c1 = pivot_sum.loc[:,cars_np[i]].to_numpy()\n",
    "    m1 = np.max(scipy.signal.correlate(c1,c1))\n",
    "    for j in range(i,len(cars_np)):\n",
    "        try:\n",
    "            c2 = pivot_sum.loc[:,cars_np[j]].to_numpy()\n",
    "            m2 = np.max(scipy.signal.correlate(c2,c2))\n",
    "            la = scipy.signal.correlation_lags(len(c1),len(c2))\n",
    "            xc = scipy.signal.correlate(c1,c2)\n",
    "\n",
    "            l0 = np.where(la == 0)[0]\n",
    "            corr_mat[i,j] = np.abs(xc[l0][0]) / np.max([m1,m2])\n",
    "        except:\n",
    "            corr_mat[i,j] = 0.0\n",
    "\n",
    "# Let's create the full matrix\n",
    "i_lower = np.tril_indices(corr_mat.shape[0], -1)\n",
    "corr_mat[i_lower] = corr_mat.T[i_lower]\n",
    "corr_mat_db = 10*np.log10(corr_mat+1e-6)\n",
    "corr_mat_db[corr_mat_db < -30] = -30"
   ]
  },
  {
   "cell_type": "code",
   "execution_count": 66,
   "metadata": {},
   "outputs": [],
   "source": [
    "pivot_aux = pivot_table.copy()\n",
    "\n",
    "corr_threshold = -15.0\n",
    "# Let's get all cars\n",
    "cars_ids = np.array(['','','',''], dtype=str)\n",
    "cars_dic = {}\n",
    "\n",
    "car_num = 0\n",
    "i = 0\n",
    "while i < corr_mat_db.shape[0]:\n",
    "    row = corr_mat_db[i,:]\n",
    "    best_ids = row[row > corr_threshold]\n",
    "    if len(best_ids) > 1:\n",
    "        actual_ids = np.argsort(row)[::-1][0:min([4,len(best_ids)])]\n",
    "        id_values = pivot_aux.columns[actual_ids]\n",
    "        intersection = np.in1d(cars_ids, id_values)\n",
    "\n",
    "        if (~intersection).any():\n",
    "            if len(id_values) < 4:\n",
    "                filler = [''] * (4-len(id_values))\n",
    "                id_values = np.append(id_values,filler)\n",
    "\n",
    "            if ~(id_values == '').any():\n",
    "                pivot_aux = pivot_aux.drop(id_values,axis=1)\n",
    "                corr_mat_db = np.delete(corr_mat_db, actual_ids, axis=0)\n",
    "                corr_mat_db = np.delete(corr_mat_db, actual_ids, axis=1)\n",
    "                cars_dic[car_num] = id_values.to_numpy()\n",
    "                car_num+=1\n",
    "            else:\n",
    "                cars_ids = np.vstack((cars_ids,id_values))\n",
    "        else:\n",
    "            intersection_opposite = np.in1d(id_values, cars_ids)\n",
    "            if (~intersection_opposite).any():\n",
    "                missing_ids = id_values[~intersection_opposite.any()].to_numpy()\n",
    "                remaining = 4-len(id_values)\n",
    "\n",
    "                data_row = np.argmax(intersection.reshape(-1,4).sum(axis=1))\n",
    "                cars_ids[data_row,remaining:] = missing_ids[:remaining]\n",
    "\n",
    "                if ~(cars_ids[data_row,:] == '').any():\n",
    "                    found_car = cars_ids[data_row,:]\n",
    "                    pivot_aux = pivot_aux.drop(id_values,axis=1)\n",
    "                    corr_mat_db = np.delete(corr_mat_db, actual_ids, axis=0)\n",
    "                    corr_mat_db = np.delete(corr_mat_db, actual_ids, axis=1)\n",
    "\n",
    "                    cars_dic[car_num] = cars_ids[data_row,:]\n",
    "                    car_num += 1\n",
    "\n",
    "                    cars_ids = np.delete(cars_ids, data_row, axis=0)\n",
    "                    cars_ids[cars_ids.isin(found_car)] = ''\n",
    "    i += 1"
   ]
  },
  {
   "cell_type": "code",
   "execution_count": 67,
   "metadata": {},
   "outputs": [
    {
     "data": {
      "text/plain": [
       "{0: array(['370C77', '370CB8', '370C81', '370C9C'], dtype=object),\n",
       " 1: array(['BE0562', 'BDC7D1', 'BDCD95', 'BDF9DD'], dtype=object),\n",
       " 2: array(['B6324C', 'B698E8', 'B67366', 'B696A2'], dtype=object),\n",
       " 3: array(['226797C', '2267C9F', '22664C8', '22674FB'], dtype=object),\n",
       " 4: array(['D3B9536D', 'D3B9434C', 'D51A0AD4', 'D3B91061'], dtype=object),\n",
       " 5: array(['C4500CBF', 'C4502099', 'C4500CDD', 'C4500CD3'], dtype=object),\n",
       " 6: array(['FB1F76FD', 'FB1F6F0C', 'FB1F7574', 'FB1F6F35'], dtype=object),\n",
       " 7: array(['F311EF53', 'F311F1AA', 'F311F336', 'F3120345'], dtype=object),\n",
       " 8: array(['417B33', '4170AD', '3E536A', '3E538A'], dtype=object)}"
      ]
     },
     "execution_count": 67,
     "metadata": {},
     "output_type": "execute_result"
    }
   ],
   "source": [
    "cars_dic"
   ]
  },
  {
   "cell_type": "code",
   "execution_count": 52,
   "metadata": {},
   "outputs": [
    {
     "data": {
      "text/plain": [
       "array([['', '', '', ''],\n",
       "       ['0D6F63', '3E536A', '', ''],\n",
       "       ['3E536A', '0D6F63', '', ''],\n",
       "       ['0D51F6', 'B6324C', '', ''],\n",
       "       ['B6324C', '0D51F6', '', '']], dtype=object)"
      ]
     },
     "execution_count": 52,
     "metadata": {},
     "output_type": "execute_result"
    }
   ],
   "source": [
    "cars_ids"
   ]
  },
  {
   "cell_type": "markdown",
   "metadata": {},
   "source": [
    "## Big Analysis"
   ]
  },
  {
   "cell_type": "code",
   "execution_count": 99,
   "metadata": {},
   "outputs": [],
   "source": [
    "grouping_analysis = [['5S','10 sec.'],['10S','10 sec.'],['30S','30 sec.'],['1T','1 min.'],['2T','2 min.'],['5T','5 min.']]"
   ]
  },
  {
   "cell_type": "code",
   "execution_count": 100,
   "metadata": {},
   "outputs": [],
   "source": [
    "results = {}\n",
    "\n",
    "for (grouping_time, _) in grouping_analysis:\n",
    "\n",
    "    # Group by time bins and 'id', and count occurrences\n",
    "    grouped = filtered.groupby([pd.Grouper(freq=grouping_time), 'id']).size().reset_index(name='count')\n",
    "\n",
    "    # Create pivot table\n",
    "    pivot_table = grouped.pivot_table(index='time', columns='id', values='count', fill_value=0)\n",
    "\n",
    "    # If you want to randomize\n",
    "    pivot_table = pivot_table.loc[:,cars_np]\n",
    "\n",
    "    # Calculating the correlation result\n",
    "    corr_mat = np.zeros((pivot_table.shape[1],pivot_table.shape[1]))\n",
    "    pivot_sum = pivot_table.copy()\n",
    "    for i in range(len(cars_np)):\n",
    "        c1 = pivot_sum.loc[:,cars_np[i]].to_numpy()\n",
    "        m1 = np.max(scipy.signal.correlate(c1,c1))\n",
    "        for j in range(i,len(cars_np)):\n",
    "            try:\n",
    "                c2 = pivot_sum.loc[:,cars_np[j]].to_numpy()\n",
    "                m2 = np.max(scipy.signal.correlate(c2,c2))\n",
    "                la = scipy.signal.correlation_lags(len(c1),len(c2))\n",
    "                xc = scipy.signal.correlate(c1,c2)\n",
    "\n",
    "                l0 = np.where(la == 0)[0]\n",
    "                corr_mat[i,j] = np.abs(xc[l0][0]) / np.max([m1,m2])\n",
    "            except:\n",
    "                corr_mat[i,j] = 0.0\n",
    "\n",
    "    # Let's create the full matrix\n",
    "    i_lower = np.tril_indices(corr_mat.shape[0], -1)\n",
    "    corr_mat[i_lower] = corr_mat.T[i_lower]\n",
    "\n",
    "    pivot_aux = pivot_table.copy()\n",
    "    corr_mat_db = 10*np.log10(corr_mat+1e-6)\n",
    "    corr_mat_db[corr_mat_db < -30] = -30\n",
    "\n",
    "    corr_threshold = -5.0\n",
    "    # Let's get all cars\n",
    "    cars_ids = np.array(['','','',''], dtype=str)\n",
    "    cars_dic = {}\n",
    "\n",
    "    car_num = 0\n",
    "    while (corr_threshold > -30.0) and (corr_mat_db.shape[0] > 1):\n",
    "        i = 0\n",
    "        while i < corr_mat_db.shape[0]:\n",
    "            row = corr_mat_db[i,:]\n",
    "            best_ids = row[row > corr_threshold]\n",
    "            if len(best_ids) > 1:\n",
    "                actual_ids = np.argsort(row)[::-1][0:min([4,len(best_ids)])]\n",
    "                id_values = pivot_aux.columns[actual_ids]\n",
    "                intersection = np.in1d(cars_ids, id_values)\n",
    "\n",
    "                if (~intersection).any():\n",
    "                    if len(id_values) < 4:\n",
    "                        filler = [''] * (4-len(id_values))\n",
    "                        id_values = np.append(id_values,filler)\n",
    "\n",
    "                    if ~(id_values == '').any():\n",
    "                        pivot_aux = pivot_aux.drop(id_values,axis=1)\n",
    "                        corr_mat_db = np.delete(corr_mat_db, actual_ids, axis=0)\n",
    "                        corr_mat_db = np.delete(corr_mat_db, actual_ids, axis=1)\n",
    "                        cars_dic[car_num] = id_values\n",
    "                        car_num+=1\n",
    "                    else:\n",
    "                        cars_ids = np.vstack((cars_ids,id_values))\n",
    "                else:\n",
    "                    intersection_opposite = np.in1d(id_values, cars_ids)\n",
    "                    if (~intersection_opposite).any():\n",
    "                        missing_ids = id_values[~intersection_opposite.any()]\n",
    "                        remaining = 4-len(id_values)\n",
    "\n",
    "                        data_row = np.argmax(intersection.reshape(-1,4).sum(axis=1))\n",
    "                        cars_ids[data_row,remaining:] = missing_ids[:remaining]\n",
    "\n",
    "                        if (~(cars_ids[data_row,:] == '')).any():\n",
    "                            found_car = cars_ids[data_row,:]\n",
    "                            pivot_aux = pivot_aux.drop(id_values,axis=1)\n",
    "                            corr_mat_db = np.delete(corr_mat_db, actual_ids, axis=0)\n",
    "                            corr_mat_db = np.delete(corr_mat_db, actual_ids, axis=1)\n",
    "\n",
    "                            cars_dic[car_num] = cars_ids[data_row,:]\n",
    "                            car_num += 1\n",
    "\n",
    "                            cars_ids = np.delete(cars_ids, data_row, axis=0)\n",
    "                            cars_ids[cars_ids.isin(found_car)] = ''\n",
    "            i += 1\n",
    "        \n",
    "        corr_threshold -= 2.5\n",
    "        cars_ids = np.array(['','','',''], dtype=str)\n",
    "\n",
    "    results[grouping_time] = cars_dic"
   ]
  },
  {
   "cell_type": "code",
   "execution_count": 101,
   "metadata": {},
   "outputs": [],
   "source": [
    "with open(f'./results/detected_cars_n{len(files)}.pickle', 'wb') as handle:\n",
    "    pickle.dump(results, handle, protocol=pickle.HIGHEST_PROTOCOL)\n",
    "    "
   ]
  }
 ],
 "metadata": {
  "kernelspec": {
   "display_name": ".venv",
   "language": "python",
   "name": "python3"
  },
  "language_info": {
   "codemirror_mode": {
    "name": "ipython",
    "version": 3
   },
   "file_extension": ".py",
   "mimetype": "text/x-python",
   "name": "python",
   "nbconvert_exporter": "python",
   "pygments_lexer": "ipython3",
   "version": "3.11.11"
  }
 },
 "nbformat": 4,
 "nbformat_minor": 2
}
